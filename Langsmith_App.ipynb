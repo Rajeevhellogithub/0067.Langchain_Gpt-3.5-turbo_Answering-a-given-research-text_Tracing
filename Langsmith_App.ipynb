{
 "cells": [
  {
   "cell_type": "code",
   "execution_count": 3,
   "id": "686d8953-794e-44de-85b3-1e7d6a048605",
   "metadata": {},
   "outputs": [],
   "source": [
    "from langchain_openai import ChatOpenAI\n",
    "from langchain_core.prompts import ChatPromptTemplate\n",
    "from langchain_core.output_parsers import StrOutputParser\n",
    "import os"
   ]
  },
  {
   "cell_type": "code",
   "execution_count": 5,
   "id": "6b9abdf9-7e2c-42a4-be20-447d7908087a",
   "metadata": {},
   "outputs": [],
   "source": [
    "os.environ[\"OPENAI_API_KEY\"] = \"xxxxxxxxxxxxxx\""
   ]
  },
  {
   "cell_type": "code",
   "execution_count": 6,
   "id": "37a021da-27af-4c73-9fd9-a7f3e0952465",
   "metadata": {},
   "outputs": [],
   "source": [
    "os.environ[\"LANGCHAIN_TRACING_V2\"]=\"true\"\n",
    "os.environ[\"LANGCHAIN_API_KEY\"]= (\"yyyyyyyyyyy\")"
   ]
  },
  {
   "cell_type": "code",
   "execution_count": 7,
   "id": "0c45b39d-b426-48c1-af15-70df7a6f7405",
   "metadata": {},
   "outputs": [],
   "source": [
    "prompt=ChatPromptTemplate.from_messages(\n",
    "    [\n",
    "        (\"system\",\"I am chatbot. I am hear to assist you. Please type your queries\"),\n",
    "        (\"user\",\"Question:{question}\\nContext:{context}\")\n",
    "    ]\n",
    ")"
   ]
  },
  {
   "cell_type": "code",
   "execution_count": 8,
   "id": "727e0876-8cf2-4c5b-bdab-7295154ca44f",
   "metadata": {},
   "outputs": [],
   "source": [
    "model=ChatOpenAI(model=\"gpt-3.5-turbo\")\n",
    "output_parser=StrOutputParser()\n",
    "chain=prompt|model|output_parser"
   ]
  },
  {
   "cell_type": "code",
   "execution_count": 9,
   "id": "272d946d-ad9f-4e98-8612-2cb9ca557bbb",
   "metadata": {},
   "outputs": [
    {
     "name": "stdout",
     "output_type": "stream",
     "text": [
      "Summary: The speech discusses the rapid advancements in Large Language Models (LLMs) in the field of natural language processing. It highlights the various areas of research contributions such as architectural innovations, training strategies, fine-tuning, multi-modal LLMs, robotics, datasets, benchmarking, and efficiency. Due to the increasing volume of literature on LLMs, the article aims to provide a concise yet comprehensive overview of recent developments in the field. It serves as a valuable resource for researchers and practitioners to gain insights from existing works and advance LLM research.\n"
     ]
    }
   ],
   "source": [
    "# https://arxiv.org/abs/2307.06435\n",
    "# https://arxiv.org/pdf/2307.06435\n",
    "\n",
    "question = \"Can you summarize the speech?\"\n",
    "context = '''Abstract\n",
    "Large Language Models (LLMs) have recently demonstrated remarkable capabilities in natural language processing tasks and\n",
    "beyond. This success of LLMs has led to a large influx of research contributions in this direction. These works encompass diverse\n",
    "topics such as architectural innovations, better training strategies, context length improvements, fine-tuning, multi-modal LLMs,\n",
    "robotics, datasets, benchmarking, efficiency, and more. With the rapid development of techniques and regular breakthroughs in\n",
    "LLM research, it has become considerably challenging to perceive the bigger picture of the advances in this direction. Considering\n",
    "the rapidly emerging plethora of literature on LLMs, it is imperative that the research community is able to benefit from a concise\n",
    "yet comprehensive overview of the recent developments in this field. This article provides an overview of the literature on a broad\n",
    "range of LLM-related concepts. Our self-contained comprehensive overview of LLMs discusses relevant background concepts\n",
    "along with covering the advanced topics at the frontier of research in LLMs. This review article is intended to provide not only a\n",
    "systematic survey but also a quick, comprehensive reference for the researchers and practitioners to draw insights from extensive,\n",
    "informative summaries of the existing works to advance the LLM research.'''\n",
    "\n",
    "print(chain.invoke({\"question\":question, \"context\":context}))"
   ]
  }
 ],
 "metadata": {
  "kernelspec": {
   "display_name": "tensorflowkernel",
   "language": "python",
   "name": "tensorflowkernel"
  },
  "language_info": {
   "codemirror_mode": {
    "name": "ipython",
    "version": 3
   },
   "file_extension": ".py",
   "mimetype": "text/x-python",
   "name": "python",
   "nbconvert_exporter": "python",
   "pygments_lexer": "ipython3",
   "version": "3.12.4"
  }
 },
 "nbformat": 4,
 "nbformat_minor": 5
}
